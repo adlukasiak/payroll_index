{
 "metadata": {
  "name": "payroll_index_pandas"
 },
 "nbformat": 3,
 "nbformat_minor": 0,
 "worksheets": [
  {
   "cells": [
    {
     "cell_type": "code",
     "collapsed": false,
     "input": [
      "import pandas as pd\n",
      "# These are boilerplate to get DataFrames to render nicely\n",
      "pd.set_option('display.notebook_repr_html', True)\n",
      "pd.set_option('display.expand_frame_repr', True)\n",
      "pd.set_option('display.precision', 3)\n",
      "pd.set_option('display.line_width', 100)\n",
      "pd.set_option('display.max_rows', 100)\n",
      "pd.set_option('display.max_columns', 10)\n",
      "pd.set_option('display.max_colwidth', 15)"
     ],
     "language": "python",
     "metadata": {},
     "outputs": []
    },
    {
     "cell_type": "code",
     "collapsed": false,
     "input": [
      "import xlrd, csv\n",
      "import re\n",
      "\n",
      "file_name_series = []\n",
      "tab_series = []\n",
      "location_series = []\n",
      "date_series = []\n",
      "emp_name_series = []\n",
      "emp_ss_series = []\n",
      "emp_street_series = []\n",
      "emp_city_series = []\n",
      "emp_state_series = []\n",
      "hrs_series = []\n",
      "raw_data_series = []\n",
      "\n",
      "err = open(\"payroll_err.txt\",\"w\")\n",
      "print>>err,(\"This is the error file\")\n",
      "\n",
      "for f in list_of_files():\n",
      "    book = xlrd.open_workbook(f,formatting_info=True)\n",
      "    for s in book.sheets():\n",
      "       \n",
      "        #skip tabs with no data and tabs that are templates\n",
      "        if (s.nrows > 0 ):  \n",
      "            if s.cell_value(0,0) == \"Date:\":\n",
      "                continue\n",
      "                \n",
      "            employee_records = employee_record_parser(book,s)\n",
      "        \n",
      "            for emp in employee_records:\n",
      "                #hack to quicly remove records that don't make sense\n",
      "                bad_records = (\n",
      "                    \",,1(a) ETHNICITY,01 BLACK\",\n",
      "                    \"02a Hispanic,03a Asian Pcific,,\",\n",
      "                    \" , , , \",\n",
      "                    \",,,\",\n",
      "                    \",,, \",\n",
      "                    \", , , \",\n",
      "                    \", , ,  \",\n",
      "                    \",,,\",\n",
      "                    \",NO WORK PERFORMED THIS WEEK,,\"\n",
      "                )\n",
      "                \n",
      "                if ss_raw in bad_records and hrs <= 0:\n",
      "                    print>>err,  \"Bad record, skipping...\", ss_raw\n",
      " \n",
      "                file_name_series.append(str(f))\n",
      "                tab_series.append(s.name)\n",
      "                location_series.append(str(extract_location(f)[0]))\n",
      "                date_series.append(str(extract_date(f)))\n",
      "                emp_name_series.append(emp['employee data']['Employee Name'])\n",
      "                emp_ss_series.append(emp['employee data']['Social Security'])\n",
      "                emp_street_series.append(emp['employee data']['Street Name'])\n",
      "                emp_city_series.append(emp['employee data']['City'])\n",
      "                emp_state_series.append(emp['employee data']['State'])\n",
      "                hrs_series.append(str(hrs_record_parser(s,emp['record location']['row'],col_index_from_name(s,\"TOTAL HOURS\"))))\n",
      "                raw_data_series.append(','.join(emp['employee raw data']))\n",
      "                    \n",
      "\n",
      "d = {\n",
      "    \"file_name\" : file_name_series,\n",
      "    \"tab\"       : tab_series,\n",
      "    \"location\"  : location_series,\n",
      "    \"date\"      : date_series,\n",
      "    \"emp_name\"  : emp_name_series,\n",
      "    \"emp_ss\"    : emp_ss_series,\n",
      "    \"emp_street\": emp_street_series,\n",
      "    \"emp_city\"  : emp_city_series,\n",
      "    \"emp_state\" : emp_state_series,\n",
      "    \"hrs\"       : hrs_series,\n",
      "    \"raw_data\"  : raw_data_series,\n",
      "    }\n",
      "\n",
      "err.close()\n",
      "print \"Done...\" "
     ],
     "language": "python",
     "metadata": {},
     "outputs": []
    },
    {
     "cell_type": "code",
     "collapsed": false,
     "input": [
      "df = pd.DataFrame(d)"
     ],
     "language": "python",
     "metadata": {},
     "outputs": []
    },
    {
     "cell_type": "code",
     "collapsed": false,
     "input": [
      "df"
     ],
     "language": "python",
     "metadata": {},
     "outputs": []
    },
    {
     "cell_type": "code",
     "collapsed": false,
     "input": [
      "from pandasql import sqldf\n",
      "\n",
      "q = \"\"\"\n",
      "SELECT\n",
      "date,location,hrs\n",
      "FROM\n",
      "df\n",
      "WHERE\n",
      "emp_name == 'MIGUEL BONILLA'\n",
      "and hrs >= 40;\n",
      "\"\"\"\n",
      "miguel_bonilla_set = sqldf(q, globals())"
     ],
     "language": "python",
     "metadata": {},
     "outputs": []
    },
    {
     "cell_type": "code",
     "collapsed": false,
     "input": [
      "miguel_bonilla_set"
     ],
     "language": "python",
     "metadata": {},
     "outputs": []
    },
    {
     "cell_type": "code",
     "collapsed": false,
     "input": [
      "k = df[(df['emp_name'] == 'MIGUEL BONILLA') & (df['hrs'] > 40)]\n",
      "k.values()"
     ],
     "language": "python",
     "metadata": {},
     "outputs": []
    },
    {
     "cell_type": "code",
     "collapsed": false,
     "input": [
      "#df[:5].T\n",
      "boxplot(df[:5])"
     ],
     "language": "python",
     "metadata": {},
     "outputs": []
    },
    {
     "cell_type": "code",
     "collapsed": false,
     "input": [
      "help(df)"
     ],
     "language": "python",
     "metadata": {},
     "outputs": []
    }
   ],
   "metadata": {}
  }
 ]
}